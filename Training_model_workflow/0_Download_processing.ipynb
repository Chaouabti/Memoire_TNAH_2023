{
 "cells": [
  {
   "cell_type": "markdown",
   "id": "4c87f280-6a10-4c10-ac37-3bd2cd06b732",
   "metadata": {},
   "source": [
    "# Download processing\n",
    "\n",
    "This notebook is the first step in the workflow for downloading a dataset from IIIF manifests and allows you to follow the entire workflow.\n",
    "\n",
    "**Requirements**\n",
    "This workflow is based on a list of manifest urls given in a CSV file containing two columns.\n",
    "Column headers MUST be:\n",
    "- 'Manifest_URL': containing the URL of the manifest,\n",
    "- 'Image_basename': containing the name you wish to give to the folder containing the downloaded images and their name.\n",
    "\n",
    "**Warning 1**\n",
    "The entire workflow is built using csv files with a '**;**' separator.\n",
    "\n",
    "**Warning 2**\n",
    "The naming of 'Image_basename' is free. It is not constrained by the URL of the manifest or any other embedded metadata. It is specific to the project. This is the identifier that will be used during the entire workflow. The manifest copy will also be named according to 'Image_basename'.\n",
    "\n"
   ]
  },
  {
   "cell_type": "markdown",
   "id": "f086aaf7-77bc-440d-9121-85a01d5dd9ed",
   "metadata": {
    "tags": []
   },
   "source": [
    "## Environnement"
   ]
  },
  {
   "cell_type": "code",
   "execution_count": null,
   "id": "a88feaa0-0e3b-4648-9ea7-263da22d1025",
   "metadata": {},
   "outputs": [],
   "source": [
    "import os\n",
    "import pandas as pd\n",
    "import requests\n",
    "import shutil\n",
    "import time\n",
    "import json\n",
    "import cv2\n",
    "from PIL import Image"
   ]
  },
  {
   "cell_type": "markdown",
   "id": "35eec4ce-855a-44f4-8eba-40c2b053f7d9",
   "metadata": {},
   "source": [
    "## Functions"
   ]
  },
  {
   "cell_type": "markdown",
   "id": "f479819a-7475-44bc-8564-21b7798748ba",
   "metadata": {},
   "source": [
    "### Download images from URL"
   ]
  },
  {
   "cell_type": "code",
   "execution_count": null,
   "id": "222e2b46-c881-4614-bea5-8a84146c316e",
   "metadata": {},
   "outputs": [],
   "source": [
    "def download_image_from_url(image_url, dir_path, request_pause):\n",
    "    \"\"\"\n",
    "    The function downloads an image from a given url ('image_url') and stores the image as a file at the path 'dir_path'.\n",
    "    A time out between the download of several images is given by the parameter 'request_pause' \n",
    "    \"\"\"\n",
    "    print(f'Downloading image from {image_url}')\n",
    "\n",
    "    r = requests.get(image_url, stream=True)\n",
    "    print(r.status_code)\n",
    "    # Check if image was retrieved successfully\n",
    "    if r.status_code == 200:\n",
    "        r.raw.decode_content = True\n",
    "\n",
    "        with open(dir_path, 'wb') as image_file:\n",
    "            shutil.copyfileobj(r.raw, image_file)\n",
    "        time.sleep(request_pause)\n",
    "    \n",
    "    elif r.status_code == 429:\n",
    "        print(f\"Error {r.status_code}. Rate limit exceeded. Pausing for {request_pause} seconds.\")\n",
    "        time.sleep(request_pause)\n",
    "    else:\n",
    "        print(f\"Error {r.status_code}\")"
   ]
  },
  {
   "cell_type": "markdown",
   "id": "2e9280df-0554-462c-b343-794fcc63ed70",
   "metadata": {},
   "source": [
    "### Open Json file"
   ]
  },
  {
   "cell_type": "code",
   "execution_count": null,
   "id": "a7b01dab-7796-4677-ab33-226dda0dbd9a",
   "metadata": {},
   "outputs": [],
   "source": [
    "def open_json_file(json_file_name):\n",
    "    '''\n",
    "    The function opens a JSON file and returns it as a dictionary. It is used to process the iiif-manifest.\n",
    "    '''\n",
    "    with open(json_file_name, 'r') as json_file:\n",
    "        return json.load(json_file)"
   ]
  },
  {
   "cell_type": "markdown",
   "id": "b1246ae6-ef11-43dd-870b-42db894de74f",
   "metadata": {},
   "source": [
    "### Download images from a IIIF manifest and create a csv with all images data"
   ]
  },
  {
   "cell_type": "markdown",
   "id": "70dde134-e996-4fef-af5a-9c9ca2ad8857",
   "metadata": {},
   "source": [
    "#### Uses of the function\n",
    "\n",
    "Download all the images in an IIIF manifest. All the images are named with the name of the IIIF manifest (file) and, after an underscore, the number of the image canvas.\n",
    "\n",
    "Creates a CSV file with all the information about each downloaded image:\n",
    "- 'manifestURL': URL of the manifest,\n",
    "- 'canvasId': canvas ID,\n",
    "- 'urlImage': image URL\n",
    "- 'folderPath': name of the folder to which the image is downloaded,\n",
    "- 'imageLabel': name of the image as declared in the manifest,\n",
    "- 'imageWidthAsDeclared': width of the image as declared in the manifest,\n",
    "- 'imageHeightAsDeclared': height of the image as declared in the manifest,\n",
    "- 'htmlCode': HTTP status code response,\n",
    "- 'imageFileName': name of the downloaded image\n",
    "- 'imageWidthAsDownloaded': width of the image calculated after downloading,\n",
    "- 'imageHeightAsDownloaded': height of the image calculated after downloading."
   ]
  },
  {
   "cell_type": "markdown",
   "id": "eb954b4f-5d1d-493d-9a36-99e99a9f5bad",
   "metadata": {},
   "source": [
    "#### Function"
   ]
  },
  {
   "cell_type": "code",
   "execution_count": null,
   "id": "dc36bd9b-7be8-41ac-b69b-a834909abb0a",
   "metadata": {},
   "outputs": [],
   "source": [
    "def download_images_from_manifest(manifest_path, dataset_folder, ms_base_name, request_pause):\n",
    "    \"\"\"\n",
    "    Download all the images in an IIIF manifest. All the images are named with the name of the IIIF manifest (file) and, after an underscore, the number of the image canvas.\n",
    "    \n",
    "    Parameters are \n",
    "    'manifest_path': path to the downloaded iiif-manifest\n",
    "    'dataset_folder': path to the folder where the data will be sto\n",
    "    'ms_base_name': folder name and base name of downloaded images\n",
    "    'request_pause': time out between the download of two images (to avoid errors 429)\n",
    "    \n",
    "    Creates a CSV file with all the information about each downloaded image:\n",
    "\n",
    "    'manifestURL': URL of the manifest,\n",
    "    'canvasId': canvas ID,\n",
    "    'urlImage': image URL\n",
    "    'folderPath': name of the folder to which the image is downloaded,\n",
    "    'imageLabel': name of the image as declared in the manifest,\n",
    "    'imageWidthAsDeclared': width of the image as declared in the manifest,\n",
    "    'imageHeightAsDeclared': height of the image as declared in the manifest,\n",
    "    'htmlCode': HTTP status code response,\n",
    "    'imageFileName': name of the downloaded image\n",
    "    'imageWidthAsDownloaded': width of the image calculated after downloading,\n",
    "    'imageHeightAsDownloaded': height of the image calculated after downloading.\n",
    "\n",
    "    \"\"\"\n",
    "    print(f'Downloading all images from {manifest_path}')\n",
    "    \n",
    "    # Read the manifest content from the locally downloaded file\n",
    "    with open(manifest_path, 'r') as manifest_file:\n",
    "        manifest_content = json.load(manifest_file)\n",
    "    \n",
    "    if manifest_content:\n",
    "        iiif_manifest = manifest_content\n",
    "    else:\n",
    "        print(\"Failed to read the manifest file.\")\n",
    "        return\n",
    "    # Create a list to store image information\n",
    "    images_data = []\n",
    "\n",
    "    # Download images\n",
    "    for i, canvas in enumerate(iiif_manifest['sequences'][0]['canvases']):\n",
    "        manifestURL = iiif_manifest['@id']\n",
    "        canvasId = canvas['@id']\n",
    "        urlImage = canvas['images'][0]['resource']['@id']\n",
    "        imageLabel = canvas['label']\n",
    "        imageWidthAsDeclared = canvas['width']\n",
    "        imageHeightAsDeclared = canvas['height']\n",
    "        image_format = urlImage.split('.')[-1]\n",
    "        image_id = f\"{i+1}\"\n",
    "        htmlCode = requests.get(urlImage).status_code\n",
    "        path_to_store_image = os.path.join(dataset_folder, ms_base_name + '_' + image_id + '.' + \"jpg\")\n",
    "       \n",
    "       # Check if the images are downloaded and don't downloaded again\n",
    "        if os.path.exists(path_to_store_image):\n",
    "            print(f\"Image {path_to_store_image} already dowloaded \")\n",
    "            htmlCode = 200\n",
    "            imageFileName = os.path.join(dataset_folder, ms_base_name + '_' + image_id + '.' + \"jpg\")\n",
    "            with Image.open(imageFileName) as img:\n",
    "                imageWidthAsDownloaded, imageHeightAsDownloaded = img.size\n",
    "        # If they are not dowloaded download them and add the post_download data\n",
    "        else:\n",
    "            download_image_from_url(urlImage, path_to_store_image, request_pause)\n",
    "        \n",
    "            try:\n",
    "                htmlCode = requests.get(urlImage).status_code\n",
    "                imageFileName = os.path.join(dataset_folder, ms_base_name + '_' + image_id + '.' + \"jpg\")\n",
    "                with Image.open(imageFileName) as img:\n",
    "                    imageWidthAsDownloaded, imageHeightAsDownloaded = img.size\n",
    "\n",
    "            except:\n",
    "                htmlCode = \"\"\n",
    "                imageFileName = \"\"\n",
    "                imageWidthAsDownloaded = \"\"\n",
    "                imageHeightAsDownloaded = \"\"\n",
    "\n",
    "        # Add image data to the list\n",
    "        image_data = {\n",
    "            'manifestURL': manifestURL,\n",
    "            'canvasId': canvasId,\n",
    "            'urlImage': urlImage,\n",
    "            'folderPath': os.path.join(dataset_folder),\n",
    "            'imageLabel': imageLabel,\n",
    "            'imageWidthAsDeclared': imageWidthAsDeclared,\n",
    "            'imageHeightAsDeclared': imageHeightAsDeclared,\n",
    "            'htmlCode': htmlCode,\n",
    "            'imageFileName': imageFileName,\n",
    "            'imageWidthAsDownloaded': imageWidthAsDownloaded,\n",
    "            'imageHeightAsDownloaded': imageHeightAsDownloaded\n",
    "        }\n",
    "        images_data.append(image_data)\n",
    "    \n",
    "    # Create a DataFrame from the image data list\n",
    "    df = pd.DataFrame(images_data)\n",
    "    \n",
    "    # Save DataFrame to a CSV file\n",
    "    csv_filename = os.path.join(dataset_folder, ms_base_name + '_image_data.csv')\n",
    "    df.to_csv(csv_filename, index=False)\n",
    "    \n",
    "    print(f\"Image data saved to {csv_filename}\")\n",
    "    print('Downloads complete')"
   ]
  },
  {
   "cell_type": "markdown",
   "id": "930bda5a-78bf-476c-8cf5-3866ed220dd1",
   "metadata": {},
   "source": [
    "### Download data (manifest, images and create a CSV file for each manifest)"
   ]
  },
  {
   "cell_type": "code",
   "execution_count": null,
   "id": "3b6a3caf-ef0e-40e7-b91a-400caec9ad05",
   "metadata": {},
   "outputs": [],
   "source": [
    "def download_data(list_of_manifests, dataset_folder):\n",
    "    \"\"\"\n",
    "    This function launches the download of all manifests in the list of manifest given as a CSV file (parameter 'list_of_manifests'). For each manifest, a folder will be created containing a copy \n",
    "    of the iiif-manifest file, the images and a CSV file documenting the downloads.\n",
    "    \"\"\"\n",
    "    df = pd.read_csv(list_of_manifests, sep=';')\n",
    "\n",
    "    # Browse each line of the CSV file\n",
    "    for i, row in df.iterrows():\n",
    "        url_manifest = row['Manifest_URL']\n",
    "        ms_name = str(row['Image_basename'])\n",
    "\n",
    "        outputfolder = os.path.join(dataset_folder, ms_name)\n",
    "        \n",
    "        # Check if the destination folder exists, if not create it\n",
    "        if not os.path.exists(outputfolder):\n",
    "            os.makedirs(outputfolder)\n",
    "        \n",
    "        # Download the manifest.json file\n",
    "        response = requests.get(url_manifest)\n",
    "        if response.status_code == 200:\n",
    "            # Build the full path to the destination file\n",
    "            manifest_path = os.path.join(outputfolder, ms_name + '_manifest.json')\n",
    "            \n",
    "            # Save the manifest.json file in the destination folder\n",
    "            with open(manifest_path, 'wb') as f:\n",
    "                f.write(response.content)\n",
    "                \n",
    "            print(f'The manifest.json file has been downloaded and saved in {outputfolder}.')\n",
    "            print()\n",
    "            print(f'Downloading images from {manifest_path}')\n",
    "\n",
    "             # Download the manifest images\n",
    "        # The Gallica's API is restricted to 5 IIIF Images / min so if you have manifests from Gallica the recommended request_pause = 12 seconds. Cf. https://api.bnf.fr/fr/node/232\n",
    "            download_images_from_manifest(manifest_path, outputfolder, ms_name, 3)\n",
    "        else:\n",
    "            print(f'Failed to download manifest.json file for {ms_name}')\n"
   ]
  },
  {
   "cell_type": "markdown",
   "id": "789199a4-39b1-4b45-af27-0e80d101cfa4",
   "metadata": {},
   "source": [
    "## Download"
   ]
  },
  {
   "cell_type": "code",
   "execution_count": null,
   "id": "677bfa2d-b345-40b5-bc50-0e4efbe53e66",
   "metadata": {},
   "outputs": [],
   "source": [
    "list_of_manifests = PATHTOCSVWITHDATA # to be change\n",
    "dataset_folder = PATHTODOWNLOADFOLDER # to be change"
   ]
  },
  {
   "cell_type": "code",
   "execution_count": null,
   "id": "f6e0f1b2-9c78-48d4-80b8-1ee2f9d11d2d",
   "metadata": {
    "tags": []
   },
   "outputs": [],
   "source": [
    "list_of_manifests = '/home/jovyan/work/Books_in_books/_Download_scripts/Books_in_Books.csv'\n",
    "dataset_folder = '/home/jovyan/work/Books_in_books'\n",
    "\n",
    "'''EXAMPLE OF CSV file:x\n",
    "'''\n",
    "'''\n",
    "Image_basename;Manifest_URL\n",
    "MS Typ 1006;https://fragmentarium.ms/metadata/iiif/F-y5pq/manifest.json\n",
    "MS Lat 451;https://fragmentarium.ms/metadata/iiif/F-j8m5/manifest.json\n",
    "'''"
   ]
  },
  {
   "cell_type": "code",
   "execution_count": null,
   "id": "f93fdb41-6946-4bc4-a0dd-923406662bd7",
   "metadata": {
    "tags": []
   },
   "outputs": [],
   "source": [
    "%%time\n",
    "\n",
    "download_data(list_of_manifests, dataset_folder)"
   ]
  }
 ],
 "metadata": {
  "kernelspec": {
   "display_name": "Python 3 (ipykernel)",
   "language": "python",
   "name": "python3"
  },
  "language_info": {
   "codemirror_mode": {
    "name": "ipython",
    "version": 3
   },
   "file_extension": ".py",
   "mimetype": "text/x-python",
   "name": "python",
   "nbconvert_exporter": "python",
   "pygments_lexer": "ipython3",
   "version": "3.10.11"
  },
  "toc-autonumbering": true
 },
 "nbformat": 4,
 "nbformat_minor": 5
}
