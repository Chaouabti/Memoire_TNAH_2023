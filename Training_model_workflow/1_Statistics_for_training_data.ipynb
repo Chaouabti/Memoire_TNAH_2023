{
 "cells": [
  {
   "cell_type": "markdown",
   "id": "16237a77-065d-42f1-b829-90e794f4b56b",
   "metadata": {},
   "source": [
    "# Descriptive statistics of training data set\n",
    "\n",
    "These scripts are designed to prepare to descibe data for YOLOv8 training.\n",
    "All these scripts are designed to process image and text data with the same name (except for the extension) contained in two folders, one named 'labels' with all the .txt files and one 'images' with all the images.\n",
    "\n",
    "The results obtained should make it possible to evaluate the relevance of the corpus used for training and to investigate the reasons for the model's robustness.\n",
    "\n",
    "\n",
    "**Warning before using the notebook**\n",
    "\n",
    "Create a 'labels.txt' file containing annotation classes in the following format:\n",
    "\n",
    "'0': 'class_name0',  \n",
    "'1': 'class_name1',  \n",
    "'2': 'class_name2'"
   ]
  },
  {
   "cell_type": "markdown",
   "id": "c322992a-b401-46ff-b75b-435957785c5e",
   "metadata": {},
   "source": [
    "## Environment"
   ]
  },
  {
   "cell_type": "code",
   "execution_count": null,
   "id": "42d83b79-9458-4571-b5f8-fcf17b241f0d",
   "metadata": {
    "tags": []
   },
   "outputs": [],
   "source": [
    "import os\n",
    "import re\n",
    "import codecs\n",
    "import shutil\n",
    "import pandas as pd\n",
    "import matplotlib.pyplot as plt\n",
    "\n",
    "from modules.class_names_functions import get_labels"
   ]
  },
  {
   "cell_type": "markdown",
   "id": "b39db708-9d42-489c-b221-e5f596ffc73c",
   "metadata": {},
   "source": [
    "## Functions"
   ]
  },
  {
   "cell_type": "markdown",
   "id": "be3a40e6-6037-492f-8964-a2973279c7c6",
   "metadata": {},
   "source": [
    "### Functions to create the folder for statistics results and the path to data folders"
   ]
  },
  {
   "cell_type": "code",
   "execution_count": null,
   "id": "930f11d5-794b-4f73-b9eb-5e10aaac9c32",
   "metadata": {
    "tags": []
   },
   "outputs": [],
   "source": [
    "def create_stats_folder(folder_path):\n",
    "    \n",
    "    \"\"\"\n",
    "    This script creates a folder in which the statistical data from the dataset used for training will be stored.\n",
    "    Before creating the folder the function check if the statistic folder exists,\n",
    "    if not create it and move the labels file in it.\n",
    "    \n",
    "    \"\"\"\n",
    "    \n",
    "    if not os.path.exists(os.path.join(folder_path, 'dataset_statistics')):\n",
    "        os.makedirs(os.path.join(folder_path, 'dataset_statistics'))"
   ]
  },
  {
   "cell_type": "markdown",
   "id": "ecc7bb29-5157-4436-b96c-ac900a064b27",
   "metadata": {},
   "source": [
    "### Functions to describe the annotated sources"
   ]
  },
  {
   "cell_type": "markdown",
   "id": "38b523e0-4c14-4f86-a4a4-d68272ebbdea",
   "metadata": {
    "tags": []
   },
   "source": [
    "#### Clean up annotated data names with Label Studio"
   ]
  },
  {
   "cell_type": "code",
   "execution_count": null,
   "id": "d5508177-a822-47a2-ae8b-1df177f15def",
   "metadata": {
    "tags": []
   },
   "outputs": [],
   "source": [
    "def clean_LS(folder_path, annotated_with_LS):\n",
    "    \"\"\"\n",
    "    This function is used to 'clean up' the names of files downloaded after being annotated \n",
    "    with Label Studio. Files retrieved in YOLO format from LS have a string of 8 characters \n",
    "    (letters or numbers) followed by a '-'. This function removes these additions so that the \n",
    "    data can be processed with the following functions, which use the file names to produce \n",
    "    statistics on the names of the manuscripts from which the images were taken.\n",
    "    \n",
    "    \"\"\"\n",
    "    \n",
    "    if annotated_with_LS:\n",
    "        img_folder = os.path.join(folder_path, 'images')\n",
    "        label_folder = os.path.join(folder_path, 'labels')\n",
    "\n",
    "        # Browse the files in the 'images' directory\n",
    "        for img_file in os.listdir(img_folder):\n",
    "            new_img_filename = img_file[9:]\n",
    "            new_img_filepath = os.path.join(img_folder, new_img_filename)\n",
    "            \n",
    "            os.rename(os.path.join(img_folder, img_file), new_img_filepath)\n",
    "            print(f\"Renamed image file : {img_file} -> {new_img_filename}\")\n",
    "\n",
    "        # Browse the files in the 'labels' directory\n",
    "        for label_file in os.listdir(label_folder):\n",
    "            new_label_filename = label_file[9:]\n",
    "            new_label_filepath = os.path.join(label_folder, new_label_filename)\n",
    "            \n",
    "            os.rename(os.path.join(label_folder, label_file), new_label_filepath)\n",
    "            print(f\"Renamed label file : {label_file} -> {new_label_filename}\")"
   ]
  },
  {
   "cell_type": "markdown",
   "id": "9359427e-37a0-4269-9dc7-41d790c7a2de",
   "metadata": {},
   "source": [
    "#### Number of manuscripts from which training images are sourced"
   ]
  },
  {
   "cell_type": "code",
   "execution_count": null,
   "id": "1f3449d1-62db-4d8d-af87-8746e9886a4b",
   "metadata": {
    "tags": []
   },
   "outputs": [],
   "source": [
    "def nb_manuscripts(folder_path):\n",
    "    \n",
    "    \"\"\"\n",
    "    This function determines the number of manuscripts used to build the dataset, \n",
    "    according to their name.\n",
    "\n",
    "    \"\"\"    \n",
    "    image_extensions = (\".jpg\", \".jpeg\", \".png\")\n",
    "    image_files = [filename for filename in os.listdir(os.path.join(folder_path, 'images')) if filename.endswith(image_extensions)]\n",
    "   \n",
    "    # List to store manuscripts names\n",
    "    ms_names = []\n",
    "\n",
    "    # Browse directory files\n",
    "    for file_name in image_files:\n",
    "        # Get the manuscript name without the folio number (after the last '_')\n",
    "        ms_name = file_name.rsplit('_', 2)[0]\n",
    "        \n",
    "        ms_names.append(ms_name)\n",
    "\n",
    "    # Delete duplicates\n",
    "    files_name_sans_doublons = list(set(ms_names))\n",
    "    \n",
    "    ms_nb = len(files_name_sans_doublons)\n",
    "    \n",
    "    return ms_nb\n"
   ]
  },
  {
   "cell_type": "markdown",
   "id": "24014b7a-1b9d-4345-a1a8-1ae0da1f0b1d",
   "metadata": {
    "tags": []
   },
   "source": [
    "#### Number of images per manuscript"
   ]
  },
  {
   "cell_type": "code",
   "execution_count": null,
   "id": "5e880426-b5e3-4d5a-a24f-33b4d91d9fba",
   "metadata": {
    "tags": []
   },
   "outputs": [],
   "source": [
    "def img_per_ms(folder_path):\n",
    "    \n",
    "    \"\"\"\n",
    "    This function determines the number of images per manuscript used to build the dataset, \n",
    "    according to their name.\n",
    "    \n",
    "    \"\"\"\n",
    "\n",
    "    image_extensions = (\".jpg\", \".jpeg\", \".png\")\n",
    "    image_files = [filename for filename in os.listdir(os.path.join(folder_path, 'images')) if filename.endswith(image_extensions)]\n",
    "    # image_files = [filename.rsplit('_', 1)[0] for filename in os.listdir(os.path.join(folder_path, 'images')) if filename.endswith(image_extensions)]\n",
    "    \n",
    "    idno = re.compile(r'^(.+)_(\\d+)\\.(jpg|jpeg|png)$')\n",
    "\n",
    "    # Dictionary to store manuscripts and their associated image filenames\n",
    "    manuscripts_images = {}\n",
    "\n",
    "    # Browse directory files\n",
    "    for file_name in image_files:\n",
    "        # Get the manuscript name without the folio number (after the last '_')\n",
    "        ms_name = file_name.rsplit('_', 2)[0]\n",
    "            \n",
    "        if ms_name not in manuscripts_images:\n",
    "            manuscripts_images[ms_name] = [file_name]\n",
    "        else:\n",
    "            manuscripts_images[ms_name].append(file_name)\n",
    "\n",
    "    # Print the results and store them in a list\n",
    "    results = []\n",
    "    for ms_name, image_list in manuscripts_images.items():\n",
    "        num_images = len(image_list)\n",
    "        results.append((ms_name, num_images))\n",
    "    \n",
    "    # Create a DataFrame from the results\n",
    "    df = pd.DataFrame(results, columns=['ms_name', 'nb_images'])\n",
    "\n",
    "    # Write the DataFrame to a CSV file with ';' as the separator\n",
    "    csv_file_path = os.path.join(os.path.join(folder_path, 'dataset_statistics'), 'img_per_ms.csv')\n",
    "    df.to_csv(csv_file_path, index=False, sep=';')\n",
    "    \n",
    "    print(f'{csv_file_path} created')\n",
    "    \n",
    "    # Separate keys and values\n",
    "    manuscrits = list(manuscripts_images.keys())\n",
    "    nb_images = [len(image_list) for image_list in manuscripts_images.values()]\n",
    "\n",
    "    # Creating a stacked bar graph\n",
    "    plt.bar(manuscrits, nb_images)\n",
    "\n",
    "    # Hide x-axis labels\n",
    "    plt.xticks([])\n",
    "\n",
    "    # Configuration des étiquettes des axes et du titre\n",
    "    plt.xlabel('Manuscripts')\n",
    "    plt.ylabel('Number of images')\n",
    "    plt.title('Distribution of images by manuscript')\n",
    "\n",
    "    # Display and save the graph\n",
    "    plt.savefig(os.path.join(folder_path, 'dataset_statistics', 'img_per_ms.png'), bbox_inches='tight')\n",
    "    plt.show()"
   ]
  },
  {
   "cell_type": "markdown",
   "id": "23d19f90-ffeb-4874-95c7-5adc8e70aa3a",
   "metadata": {},
   "source": [
    "###  Distribution of annotations"
   ]
  },
  {
   "cell_type": "markdown",
   "id": "33c114ad-ba0f-481b-ad17-eb41cf2eca25",
   "metadata": {},
   "source": [
    "#### Get the annotation files"
   ]
  },
  {
   "cell_type": "code",
   "execution_count": null,
   "id": "17505847-276b-47c6-a42c-55792bdad21c",
   "metadata": {
    "tags": []
   },
   "outputs": [],
   "source": [
    "def get_annotation_files(img_folder, txt_folder):\n",
    "    \n",
    "    \"\"\"\n",
    "    This function get the list of .txt files containing the annotations used to train the model.\n",
    "    \n",
    "    The \"img_folder\" parameter is the path to the folder in which images are stored.\n",
    "    The \"txt_folder\" parameter is the path to the folder in which annotations are stored.\n",
    "    \n",
    "    \"\"\"\n",
    "    \n",
    "    image_extensions = (\".jpg\", \".jpeg\", \".png\")\n",
    "    image_files = [filename for filename in os.listdir(img_folder) if filename.endswith(image_extensions)]\n",
    "\n",
    "    annotation_files = []\n",
    "    \n",
    "    for image_file in image_files:\n",
    "        image_name, image_ext = os.path.splitext(image_file)\n",
    "        annotation_file = os.path.join(txt_folder, image_name + '.txt')\n",
    "        \n",
    "        if os.path.exists(annotation_file):\n",
    "            annotation_files.append(annotation_file)\n",
    "            \n",
    "    return annotation_files"
   ]
  },
  {
   "cell_type": "markdown",
   "id": "cba23b1e-8564-4a39-bdef-39d5c0bda9ed",
   "metadata": {},
   "source": [
    "#### Check that all annotation files are utf-8 encoded"
   ]
  },
  {
   "cell_type": "code",
   "execution_count": null,
   "id": "33119baa-0060-4f8b-9bd7-a093494d2086",
   "metadata": {
    "tags": []
   },
   "outputs": [],
   "source": [
    "def encoding(folder_path):\n",
    "    \n",
    "    \"\"\"\n",
    "    This function ensures that annotation files are encoded in utf-8, a required format for model training with YOLOv8.\n",
    "    \n",
    "    \"\"\"\n",
    "    \n",
    "    annotations_txt = get_annotation_files(os.path.join(folder_path, 'images'), os.path.join(folder_path, 'labels'))\n",
    "\n",
    "    for filename in annotations_txt:\n",
    "        file_path = os.path.join(os.path.join(folder_path, 'labels'), filename)\n",
    "        with open(file_path, 'rb') as f:\n",
    "            rawdata = f.read()\n",
    "        try:\n",
    "            result = codecs.decode(rawdata, 'utf-8')\n",
    "        except UnicodeDecodeError:\n",
    "            try:\n",
    "                result = codecs.decode(rawdata, 'iso-8859-1')\n",
    "                print(f\"{filename} is encoded in ISO-8859-1\")\n",
    "            except UnicodeDecodeError:\n",
    "                print(f\"{filename} encoding not recognized\")"
   ]
  },
  {
   "cell_type": "markdown",
   "id": "930bd70e-92e6-454e-b4d3-0e3e02b75106",
   "metadata": {},
   "source": [
    "#### Function to get the number of images without annotations"
   ]
  },
  {
   "cell_type": "code",
   "execution_count": null,
   "id": "4688a1e7-a609-4e5f-8a19-0d52c5b736ed",
   "metadata": {
    "tags": []
   },
   "outputs": [],
   "source": [
    "def img_without_annotations(img_folder, txt_folder):\n",
    "    \n",
    "    \"\"\"\n",
    "    This function allows you to retrieve the list of unannotated images, whether they have no annotation file \n",
    "    or an empty annotation file.\n",
    "    \n",
    "    The \"img_folder\" parameter is the path to the folder in which images are stored.\n",
    "    The \"txt_folder\" parameter is the path to the folder in which annotations are stored.\n",
    "    \"\"\"\n",
    "    \n",
    "    annotation_files = get_annotation_files(img_folder, txt_folder)\n",
    "    \n",
    "    image_extensions = (\".jpg\", \".jpeg\", \".png\")\n",
    "    image_files = [filename for filename in os.listdir(os.path.join(folder_path, 'images')) if filename.endswith(image_extensions)]\n",
    "    \n",
    "    count = 0\n",
    "    for image_file in image_files:\n",
    "        image_name, image_ext = os.path.splitext(image_file)\n",
    "        annotation_file = os.path.join(txt_folder, image_name + '.txt')\n",
    "        if annotation_file not in annotation_files:\n",
    "            count += 1\n",
    "            print(f\"Image {image_file} has no annotation file\")\n",
    "    \n",
    "    for annotation_file in annotation_files:\n",
    "        with open(os.path.join(txt_folder, annotation_file), 'r') as f:\n",
    "            annotations = f.read()\n",
    "            if annotations == \"\":\n",
    "                count += 1\n",
    "    return count"
   ]
  },
  {
   "cell_type": "markdown",
   "id": "eb7335dd-8cde-4ec2-b09c-b80e418255b0",
   "metadata": {},
   "source": [
    "#### Get number of annotations per image"
   ]
  },
  {
   "cell_type": "code",
   "execution_count": null,
   "id": "dc635ae3-5960-46e8-bfc9-09e79a0da434",
   "metadata": {
    "tags": []
   },
   "outputs": [],
   "source": [
    "def annotations_per_img(folder_path):\n",
    "    \"\"\"\n",
    "    This function calculates the number of annotations per image and produces a \n",
    "    .csv file containing the results.\n",
    "    \n",
    "    \"\"\"\n",
    "\n",
    "    annotation_files = get_annotation_files(os.path.join(folder_path, 'images'), os.path.join(folder_path, 'labels'))\n",
    "    \n",
    "    lines_per_file = {}\n",
    "\n",
    "    for annotation_file in annotation_files:\n",
    "        with open(os.path.join(os.path.join(folder_path, 'labels'), annotation_file), 'r') as f:\n",
    "            nb_lines = 0\n",
    "            for line in f:\n",
    "                nb_lines += 1\n",
    "\n",
    "        image_name = os.path.splitext(annotation_file)[0]  # Get the image name without extension\n",
    "        image_path = os.path.join(os.path.join(folder_path, 'images'), f'{image_name}.jpg')  # Assume images have .jpg extension, modify as needed\n",
    "        lines_per_file[image_path] = nb_lines\n",
    "    \n",
    "    lines_per_file_tries = dict(sorted(lines_per_file.items(), key=lambda x: x[1], reverse=True))\n",
    "\n",
    "    # Create a DataFrame from the results\n",
    "    df = pd.DataFrame(lines_per_file_tries.items(), columns=['image_name', 'annotations_nb'])\n",
    "\n",
    "    # Write the DataFrame to a CSV file with ';' as the separator\n",
    "    csv_file_path = os.path.join(os.path.join(folder_path, 'dataset_statistics'), 'annotations_per_img.csv')\n",
    "    df.to_csv(csv_file_path, index=False, sep=';')\n",
    "\n",
    "    print(f'{csv_file_path} created')    "
   ]
  },
  {
   "cell_type": "markdown",
   "id": "1d9c1978-e513-460f-9e07-d686d436e0cc",
   "metadata": {},
   "source": [
    "#### Get total number of annotations"
   ]
  },
  {
   "cell_type": "code",
   "execution_count": null,
   "id": "c5b7ff7d-ba0a-45b2-a431-79eecbc38346",
   "metadata": {
    "tags": []
   },
   "outputs": [],
   "source": [
    "def total_annotations(img_folder, txt_folder):\n",
    "    \n",
    "    \"\"\"\n",
    "    This function retrieves the total number of annotations in the training dataset.\n",
    "    \n",
    "    The \"img_folder\" parameter is the path to the folder in which images are stored.\n",
    "    The \"txt_folder\" parameter is the path to the folder in which annotations are stored.\n",
    "    \"\"\"\n",
    "    \n",
    "    annotation_files = get_annotation_files(img_folder, txt_folder)\n",
    "\n",
    "    total_lines = 0\n",
    "\n",
    "    for annotation_file in annotation_files:\n",
    "        with open(os.path.join(txt_folder, annotation_file), 'r') as f:\n",
    "            nb_lines = 0\n",
    "            for line in f:\n",
    "                if line.strip():  # ignore les lines vides\n",
    "                    nb_lines += 1\n",
    "            total_lines += nb_lines\n",
    "\n",
    "    return total_lines\n",
    "    print(f\"The total number of annotations is {total_lines}.\")"
   ]
  },
  {
   "cell_type": "markdown",
   "id": "9f99a0d6-0c48-4f2e-8df3-20fc8a95c261",
   "metadata": {},
   "source": [
    "#### Get the number of annotations for each class"
   ]
  },
  {
   "cell_type": "code",
   "execution_count": null,
   "id": "4ec1c540-3763-4a32-9555-0478324a8285",
   "metadata": {
    "tags": []
   },
   "outputs": [],
   "source": [
    "def classes_distribution(folder_path):\n",
    "    \n",
    "    \"\"\"\n",
    "    This function counts the number of annotations per class and stored the result in a \n",
    "    .csv file.\n",
    "    \n",
    "    \"\"\"\n",
    "\n",
    "\n",
    "    # Get the labels from the labels.txt file\n",
    "    annotation_classes = get_labels(os.path.join(folder_path, 'labels.txt'))\n",
    "    annotation_files = get_annotation_files(os.path.join(folder_path, 'images'), os.path.join(folder_path, 'labels'))\n",
    "    \n",
    "    annotation_labels = annotation_classes\n",
    "\n",
    "    occurrences = {}\n",
    "    for annotation_file in annotation_files:\n",
    "        with open(os.path.join(os.path.join(folder_path, 'labels'), annotation_file), 'r', encoding='ascii') as f:\n",
    "            for line in f:\n",
    "                annotation_code = line.split()[0]\n",
    "                if annotation_code not in occurrences:\n",
    "                    occurrences[annotation_code] = 1\n",
    "                else:\n",
    "                    occurrences[annotation_code] += 1\n",
    "\n",
    "    # Map annotation codes to class names\n",
    "    class_names = [annotation_labels[code].strip() for code in occurrences.keys()]\n",
    "    \n",
    "    # Create a DataFrame from the results\n",
    "    df = pd.DataFrame({'class_name': class_names, 'nb_occurrences': occurrences.values()})\n",
    "\n",
    "    # Write the DataFrame to a CSV file with ';' as the separator\n",
    "    csv_file_path = os.path.join(os.path.join(folder_path, 'dataset_statistics'), 'class_distribution.csv')\n",
    "    df.to_csv(csv_file_path, index=False, sep=';')\n",
    "\n",
    "    print(f'{csv_file_path} created')\n",
    "    \n",
    "    # Creating a stacked bar chart\n",
    "    plt.barh(class_names, occurrences.values())\n",
    "\n",
    "    # Setting axis and title labels\n",
    "    plt.xlabel('Nombre d\\'occurrences')\n",
    "    plt.ylabel('Classes')\n",
    "    plt.title('Distribution des classes')\n",
    "\n",
    "    # Display and save the graph\n",
    "    plt.savefig(os.path.join(folder_path, 'dataset_statistics', 'class_distribution.png'), bbox_inches='tight')\n",
    "    plt.show()\n"
   ]
  },
  {
   "cell_type": "markdown",
   "id": "40383b8e-af92-4743-b45f-2c6fdf165ce2",
   "metadata": {},
   "source": [
    "#### Output global statistics"
   ]
  },
  {
   "cell_type": "code",
   "execution_count": null,
   "id": "1edcd331-1ddf-4fe0-a68f-8ae5220a030b",
   "metadata": {
    "tags": []
   },
   "outputs": [],
   "source": [
    "def get_global_results(folder_path):\n",
    "    \n",
    "    \"\"\"\n",
    "    The function generates a txt file with the data from the functions:'nb_manuscripts', 'img_without_annotations',\n",
    "    'total_annotations'.\n",
    "    \n",
    "    \"\"\"\n",
    "    \n",
    "    # Calculate the metrics\n",
    "    metrics = {\n",
    "        'Number of manuscripts': nb_manuscripts(folder_path),\n",
    "        'Number of files without annotations': img_without_annotations(os.path.join(folder_path, 'images'), os.path.join(folder_path, 'labels')),\n",
    "        'Total number of annotations': total_annotations(os.path.join(folder_path, 'images'), os.path.join(folder_path, 'labels'))\n",
    "    }\n",
    "\n",
    "    # Create a DataFrame from the results\n",
    "    df = pd.DataFrame(metrics.items(), columns=['metric', 'value'])\n",
    "\n",
    "    # Write the DataFrame to a CSV file with ';' as the separator\n",
    "    csv_file_path = os.path.join(os.path.join(folder_path, 'dataset_statistics'), 'global_data.csv')\n",
    "    df.to_csv(csv_file_path, index=False, sep=';')\n",
    "\n",
    "    print(f'{csv_file_path} created')"
   ]
  },
  {
   "cell_type": "markdown",
   "id": "4be0d15a-aedb-4823-9e45-b5180e77d717",
   "metadata": {},
   "source": [
    "## Processing"
   ]
  },
  {
   "cell_type": "code",
   "execution_count": null,
   "id": "db382e0d-13b3-4eba-b72d-99e5d56f92ad",
   "metadata": {
    "tags": []
   },
   "outputs": [],
   "source": [
    "folder_path = 'ABSPATHTOTHEFOLDER' # to be modified, absolute path to the folder in which the training session data are stored"
   ]
  },
  {
   "cell_type": "code",
   "execution_count": null,
   "id": "ec3e660f-e158-4fec-8d0c-f4f0f3f99bcc",
   "metadata": {
    "tags": []
   },
   "outputs": [],
   "source": [
    "# Create the statistic folder\n",
    "create_stats_folder(folder_path)"
   ]
  },
  {
   "cell_type": "code",
   "execution_count": null,
   "id": "7a7fbab6-4e57-469d-99f9-03c8d1fd9193",
   "metadata": {},
   "outputs": [],
   "source": [
    "# Clean Label Studio file, default False, change as needed\n",
    "clean_LS(folder_path, annotated_with_LS=False)"
   ]
  },
  {
   "cell_type": "code",
   "execution_count": null,
   "id": "ce8e2bcb-a5e3-446c-853f-40f60e51a23e",
   "metadata": {
    "tags": []
   },
   "outputs": [],
   "source": [
    "# Print a txt file with the number of images per manuscript\n",
    "img_per_ms(folder_path)"
   ]
  },
  {
   "cell_type": "code",
   "execution_count": null,
   "id": "c5d2c468-efc6-4b29-a9ba-2311e5335470",
   "metadata": {
    "tags": []
   },
   "outputs": [],
   "source": [
    "# Check encoding format of annotation files\n",
    "encoding(folder_path)"
   ]
  },
  {
   "cell_type": "code",
   "execution_count": null,
   "id": "4c4a82a3-6454-4e38-b6eb-bc5ae6890464",
   "metadata": {
    "tags": []
   },
   "outputs": [],
   "source": [
    "# Print a txt file with the number of annotations per image\n",
    "annotations_per_img(folder_path)"
   ]
  },
  {
   "cell_type": "code",
   "execution_count": null,
   "id": "84514d5b-48d3-4b9a-848e-143bb01afd9b",
   "metadata": {
    "tags": []
   },
   "outputs": [],
   "source": [
    "# Print a file with the distribution of classes in the training dataset\n",
    "classes_distribution(folder_path)"
   ]
  },
  {
   "cell_type": "code",
   "execution_count": null,
   "id": "a95525e2-9eb4-478a-bd0b-4c7922e21939",
   "metadata": {
    "tags": []
   },
   "outputs": [],
   "source": [
    "# Print a file with the number of manuscripts used for training, the number of unannotated images and total annotations\n",
    "get_global_results(folder_path)"
   ]
  },
  {
   "cell_type": "code",
   "execution_count": null,
   "id": "acb76909-ba1f-4fd0-9e90-fca575ce6946",
   "metadata": {},
   "outputs": [],
   "source": []
  }
 ],
 "metadata": {
  "kernelspec": {
   "display_name": "Python 3 (ipykernel)",
   "language": "python",
   "name": "python3"
  },
  "language_info": {
   "codemirror_mode": {
    "name": "ipython",
    "version": 3
   },
   "file_extension": ".py",
   "mimetype": "text/x-python",
   "name": "python",
   "nbconvert_exporter": "python",
   "pygments_lexer": "ipython3",
   "version": "3.10.11"
  },
  "toc-autonumbering": true
 },
 "nbformat": 4,
 "nbformat_minor": 5
}
